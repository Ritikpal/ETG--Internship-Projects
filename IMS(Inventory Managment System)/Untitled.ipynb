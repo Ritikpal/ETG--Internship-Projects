{
 "cells": [
  {
   "cell_type": "code",
   "execution_count": 7,
   "id": "c9b457aa-aa81-4101-9df3-9573be579a66",
   "metadata": {},
   "outputs": [],
   "source": [
    "# Python program to write JSON\n",
    "# to a file\n",
    " \n",
    " \n",
    "import json\n",
    " \n",
    "# Data to be written\n",
    " \n",
    "beverages ={\n",
    "  101 : {\"name\" :\"COFFEE\",\"price\": 50, \"qty\":10},\n",
    "  102 : {\"name\" :\"COLD COFFEE\",\"price\": 150, \"qty\": 10},\n",
    "  103 : {\"name\" :\"TEA\",\"price\": 40, \"qty\": 10},\n",
    "  104 : {\"name\" :\"VANILLA MILKSHAKE\",\"price\": 200, \"qty\": 10},\n",
    "  105 : {\"name\" :\"CHOCOLATE MILKSHAKE\",\"price\": 200, \"qty\": 10},\n",
    "  106 : {\"name\" :\"ICED LEMON TEA\",\"price\": 200, \"qty\": 10},\n",
    "  107 : {\"name\" :\"MINT LEMON COOLER\",\"price\": 200, \"qty\": 10},\n",
    "  108 : {\"name\" :\"FRESH LIME SODA\",\"price\": 75, \"qty\": 10},\n",
    "  109 : {\"name\" :\"LASSI\",\"price\": 100, \"qty\":10},\n",
    "  110 : {\"name\" :\"BANANA SMOOTHIE\",\"price\": 150, \"qty\":10}\n",
    "}\n",
    " \n",
    "\n",
    "json_beverages = json.dumps(beverages)\n",
    " \n",
    "# Writing to beverages.json\n",
    "\n",
    "\n",
    "\n",
    "kathi_rolls ={\n",
    "    201 : {\"name\" :\"VEG ROLL\",\"price\": 50, \"qty\": 10},\n",
    "  202 : {\"name\" :\"PANEER ROLL\",\"price\": 60, \"qty\": 10},\n",
    "  203 : {\"name\" :\"CHEESE ROLL\",\"price\": 65, \"qty\": 10},\n",
    "  204 : {\"name\" :\"CHICKEN ROLL\",\"price\": 90, \"qty\": 10},\n",
    "  205 : {\"name\" :\"SINGLE EGG ROLL\",\"price\": 60, \"qty\": 10},\n",
    "  206 : {\"name\" :\"DOUBLE EGG ROLL\",\"price\": 80, \"qty\": 10}\n",
    " }\n",
    " \n",
    " \n",
    "json_kathi = json.dumps(kathi_rolls)\n",
    " # Writing to kathi.json\n",
    "\n",
    " \n",
    "snacks = {\n",
    "    301 : {\"name\" :\"VEG ROLL\",\"price\": 50, \"qty\": 10},\n",
    "  302 : {\"name\" :\"PANEER ROLL\",\"price\": 60, \"qty\": 10},\n",
    "  303 : {\"name\" :\"CHEESE ROLL\",\"price\": 65, \"qty\": 10} \n",
    "}\n",
    " \n",
    "json_snacks = json.dumps(snacks)\n",
    "\n",
    "# writing to snacks json\n",
    "\n",
    "\n",
    "\n",
    "american_veg_pizza = {\n",
    "    401: {\"name\":\"MARGHERITA PIZZA \", \"price\": 225 ,\"qty\": 10},\n",
    "    402: {\"name\":\"VEGETARIAN BITE\", \"price\": 315 ,\"qty\": 10},\n",
    "    403: {\"name\":\"MUSHROOM RIOT\", \"price\":335 ,\"qty\": 10},\n",
    "    404: {\"name\":\"MEXICAN DELIGHT\", \"price\": 360 ,\"qty\": 10},\n",
    "    405: {\"name\":\"AMERICAN HEAT \", \"price\": 360,\"qty\": 10},\n",
    "    406: {\"name\":\"SPICY TREAT \", \"price\": 360,\"qty\": 10},\n",
    "    407: {\"name\":\"HAWAIIAN FANTASY \", \"price\": 420 ,\"qty\": 10},\n",
    "    408: {\"name\":\"FRESH VEGGI SPECIAL \", \"price\": 420,\"qty\": 10},\n",
    "    409: {\"name\":\"CHEESE BURST \", \"price\":333 ,\"qty\": 10}\n",
    "}\n",
    "\n",
    "json_american = json.dumps(american_veg_pizza) \n",
    " \n",
    "# Writing to american.json\n",
    "\n",
    " \n",
    "chinese = {\n",
    "    501 : {\"name\" :\"VEG MOMO\",\"price\": 50, \"qty\": 10},\n",
    "  502 : {\"name\" :\"NON VEG  MOMO\",\"price\": 70, \"qty\": 10},\n",
    "  503 : {\"name\" :\"VEG NOODLE\",\"price\": 65, \"qty\": 10},\n",
    "  504 : {\"name\" :\"EGG NOODLE\",\"price\": 70, \"qty\": 10},\n",
    "  505 : {\"name\" :\"CHICKEN NOODLE\",\"price\": 90, \"qty\": 10},\n",
    "  506 : {\"name\" :\"CHILLY CHICKEN\",\"price\": 190, \"qty\": 10},\n",
    "  507 : {\"name\" :\"VEG MANCHURIAN\",\"price\": 110, \"qty\": 10},\n",
    "  508 : {\"name\" :\"NON VEG MANCHURIAN\",\"price\": 170, \"qty\": 10},\n",
    "  509 : {\"name\" :\"CHILLI POTATO\",\"price\": 80, \"qty\": 10},\n",
    "  510 : {\"name\" :\"EGG MAGGIE\",\"price\": 50, \"qty\": 10},\n",
    "  511 : {\"name\" :\"CHICKEN MAGGIE\",\"price\": 70, \"qty\": 10},\n",
    "  512 : {\"name\" :\"CHILLY MAGGIE\",\"price\": 90, \"qty\": 10}\n",
    "}\n",
    "\n",
    "json_chinese = json.dumps(chinese)\n",
    "\n",
    "# Writing to chinese.json\n",
    "\n",
    " \n",
    "foods = {1: beverages, 2: kathi_rolls , 3:snacks, 4:american_veg_pizza,5:chinese}\n",
    "json_foods = json.dumps(foods)\n",
    "with open(\"foods.json\", \"w\") as outfile:\n",
    "    outfile.write(json_foods)"
   ]
  },
  {
   "cell_type": "code",
   "execution_count": 8,
   "id": "5f024496-1667-41aa-9b9f-648b9608a994",
   "metadata": {},
   "outputs": [
    {
     "name": "stdout",
     "output_type": "stream",
     "text": [
      "We have beverages, kathi rolls , snacks , america_pizza, chinese in our menu. You just have to give us dish code \n",
      "The dish codes are as follows:\n",
      "1. Beverages\n",
      "2. Kathi Rolls\n",
      "3. Snacks\n",
      "4. American Veg Pizzas \n",
      "5. Chinese\n",
      "Enter the code which item you want:\n",
      "5\n",
      "The available CHINESE are:\n",
      "\n",
      " Dish_Code :    Name              :  Price    \n",
      "  501      :  VEG MOMO            : 50 \n",
      "  502      :  NON VEG  MOMO       :  70 \n",
      "  503      :  VEG NOODLE          :  65\n",
      "  504      :  EGG NOODLE          :  70 \n",
      "  505      :  CHICKEN NOODLE      :  90\n",
      "  506      :  CHILLY CHICKEN      :  190\n",
      "  507      :  VEG MANCHURIAN      :  110 \n",
      "  508      :  NON VEG MANCHURIAN  :  170 \n",
      "  509      :  CHILLI POTATO       :  80  \n",
      "  510      :  EGG MAGGIE          :  50 \n",
      "  511      :  CHICKEN MAGGIE      :  70 \n",
      "  512      :  CHILLY  MAGGIE      :  90 \n"
     ]
    }
   ],
   "source": [
    "def \n",
    "print(\"We have beverages, kathi rolls , snacks , america_pizza, chinese in our menu. You just have to give us dish code \")\n",
    "print(\"The dish codes are as follows:\")\n",
    "print(\"1. Beverages\\n2. Kathi Rolls\\n3. Snacks\\n4. American Veg Pizzas \\n5. Chinese\") \n",
    "usr_foods = int(input(\"Enter the code which item you want:\\n\"))\n",
    "if usr_foods == 1:\n",
    "    print(\"The available  Beverages are:\")\n",
    "    print(\"\\n Dish_Code :    Name              :  Price    \\n  101      :  COFFEE              :  50 \\n  102      :  COLD COFFEE         :  150 \\n  103      :  TEA                 :  40\\n  104      :  VANILLA MILKSHAKE   :  200 \\n  105      :  CHOCOLATE MILKSHAKE :  200\\n  106      :  ICED LEMON TEA      :  200\\n  107      :  MINT LEMON COOLER   :  200 \\n  108      :  FRESH LIME SODA     :  75 \\n  109      :  LASSI               :  100 \\n  110      :  BANANA SMOOTHIE     :  150\")\n",
    "if usr_foods == 2:\n",
    "    print(\"The available  Kathi Rolls are:\")\n",
    "    print(\"\\n Dish_Code :    Name              :  Price    \\n  201      :  VEG ROLL            :  50 \\n  202      :  PANEER ROLL         :  60 \\n  203      :  CHEESE ROLL         :  65\\n  204      :  CHICKEN ROLL        :  90 \\n  205      :  SINGLE EGG ROLL     :  60\\n  206      :  DOUBLE EGG ROLL     :  80\")\n",
    "if usr_foods == 3:\n",
    "    print(\"The available  SNACKS are:\")\n",
    "    print(\"\\n Dish_Code :    Name              :  Price    \\n  301      :  VEG ROLL            :  50 \\n  302      :  PANEER ROLL         :  60 \\n  303      :  CHEESE ROLL         :  65\")\n",
    "if usr_foods == 4:\n",
    "    print(\"The available AMERICAN VEG PIZZAS are:\")\n",
    "    print(\"\\n Dish_Code :    Name              :  Price    \\n  401      :  MARGHERITA PIZZA    : 225 \\n  402      :  VEGETARIAN BITE     :  315 \\n  403      :  MUSHROOM RIOT       :  335\\n  404      :  MEXICAN DELIGHT     :  360 \\n  405      :  AMERICAN HEAT       :  360\\n  406      :  SPICY TREAT         :  360\\n  407      :  HAWAIIAN FANTASY    :  420 \\n  408      :  FRESH VEGGI SPECIAL :  420 \\n  409      :  CHEESE BURST        :  333 \")\n",
    "if usr_foods == 5:\n",
    "    print(\"The available CHINESE are:\")\n",
    "    print(\"\\n Dish_Code :    Name              :  Price    \\n  501      :  VEG MOMO            : 50 \\n  502      :  NON VEG  MOMO       :  70 \\n  503      :  VEG NOODLE          :  65\\n  504      :  EGG NOODLE          :  70 \\n  505      :  CHICKEN NOODLE      :  90\\n  506      :  CHILLY CHICKEN      :  190\\n  507      :  VEG MANCHURIAN      :  110 \\n  508      :  NON VEG MANCHURIAN  :  170 \\n  509      :  CHILLI POTATO       :  80  \\n  510      :  EGG MAGGIE          :  50 \\n  511      :  CHICKEN MAGGIE      :  70 \\n  512      :  CHILLY  MAGGIE      :  90 \")de"
   ]
  },
  {
   "cell_type": "code",
   "execution_count": 9,
   "id": "45463200-2248-427b-a99e-c08b8fef51eb",
   "metadata": {},
   "outputs": [
    {
     "name": "stdout",
     "output_type": "stream",
     "text": [
      "enter that dish code which dish you want:512\n",
      "How many pieces do you want:8\n"
     ]
    }
   ],
   "source": [
    "usr_choice= int(input(\"enter that dish code which dish you want:\"))\n",
    "usr_item_qty = int(input(\"How many pieces do you want:\"))\n",
    "item_name = foods[usr_foods][usr_choice][\"name\"]\n",
    "item_price = foods[usr_foods][usr_choice][\"price\"]"
   ]
  },
  {
   "cell_type": "code",
   "execution_count": 10,
   "id": "4a4cc3f8-8113-43b8-bba3-a9b1a302d8b5",
   "metadata": {},
   "outputs": [
    {
     "name": "stdout",
     "output_type": "stream",
     "text": [
      "You just bought 8 CHILLY MAGGIE \n",
      "Total amount to be paid 720\n"
     ]
    }
   ],
   "source": [
    "#updation of inventory// any file in the inventory ( in terms of how much items are left)\n",
    "total_qty = foods[usr_foods][usr_choice]['qty']\n",
    "left_qty = total_qty - usr_item_qty\n",
    "foods[usr_foods][usr_choice]['qty'] = left_qty\n",
    "if total_qty < usr_item_qty:\n",
    "    print(\"Item quantity is less. You can order upto {} items \".format(total_qty))\n",
    "    #usr_order = input(\"Enter yes if u want to make another order else  no:\")\n",
    "    #if usr_order == \"yes\":\n",
    "    #    order = makeorder(usr_order)\n",
    "    #else:\n",
    "        #print(\"Thanks for ordering.\")\n",
    "else:\n",
    "    total_amount = item_price * usr_item_qty\n",
    "    print(\"You just bought {} {} \".format(usr_item_qty,item_name))\n",
    "    print(\"Total amount to be paid {}\".format(total_amount))\n",
    "    #usr_order = input(\"Enter yes if u want to make another order else  no:\")\n",
    "    #if usr_order == \"yes\":\n",
    "    #    order = makeorder(usr_order)\n",
    "    #else:\n",
    "    #    print(\"Thanks for ordering.\")"
   ]
  },
  {
   "cell_type": "code",
   "execution_count": 11,
   "id": "97268af2-461d-405b-8f6b-39f4229fe52a",
   "metadata": {},
   "outputs": [
    {
     "name": "stdout",
     "output_type": "stream",
     "text": [
      "2\n"
     ]
    }
   ],
   "source": [
    "print(left_qty)\n",
    "foods[usr_foods][usr_choice]['qty'] = left_qty"
   ]
  },
  {
   "cell_type": "code",
   "execution_count": 12,
   "id": "7a4f904d-9b0e-4b46-b827-c975399c3c10",
   "metadata": {
    "tags": []
   },
   "outputs": [],
   "source": [
    "final_dict = foods[usr_foods]\n"
   ]
  },
  {
   "cell_type": "code",
   "execution_count": 16,
   "id": "7b62cfe0-a9d2-46c4-b5ff-1705f6b5c918",
   "metadata": {},
   "outputs": [],
   "source": [
    "json_object = json.dumps(final_dict)"
   ]
  },
  {
   "cell_type": "code",
   "execution_count": 23,
   "id": "34a05ba2-96ce-434c-951a-d6b270d500db",
   "metadata": {},
   "outputs": [
    {
     "data": {
      "text/plain": [
       "str"
      ]
     },
     "execution_count": 23,
     "metadata": {},
     "output_type": "execute_result"
    }
   ],
   "source": [
    "#print(json_object)\n",
    "type(json_object)"
   ]
  },
  {
   "cell_type": "code",
   "execution_count": 31,
   "id": "0df32cae-36bf-43f7-b28a-3ea9bccf4bdb",
   "metadata": {},
   "outputs": [],
   "source": [
    "\n",
    "fd = open(\"final_dict.txt\",'w')\n",
    "\n",
    "fd.write(json_object)\n",
    "\n",
    "fd.close()\n",
    "\n"
   ]
  },
  {
   "cell_type": "code",
   "execution_count": 33,
   "id": "6232114d",
   "metadata": {},
   "outputs": [
    {
     "name": "stdout",
     "output_type": "stream",
     "text": [
      "{\"501\": {\"name\": \"VEG MOMO\", \"price\": 50, \"qty\": 10}, \"502\": {\"name\": \"NON VEG  MOMO\", \"price\": 70, \"qty\": 10}, \"503\": {\"name\": \"VEG NOODLE\", \"price\": 65, \"qty\": 10}, \"504\": {\"name\": \"EGG NOODLE\", \"price\": 70, \"qty\": 10}, \"505\": {\"name\": \"CHICKEN NOODLE\", \"price\": 90, \"qty\": 10}, \"506\": {\"name\": \"CHILLY CHICKEN\", \"price\": 190, \"qty\": 10}, \"507\": {\"name\": \"VEG MANCHURIAN\", \"price\": 110, \"qty\": 10}, \"508\": {\"name\": \"NON VEG MANCHURIAN\", \"price\": 170, \"qty\": 10}, \"509\": {\"name\": \"CHILLI POTATO\", \"price\": 80, \"qty\": 10}, \"510\": {\"name\": \"EGG MAGGIE\", \"price\": 50, \"qty\": 10}, \"511\": {\"name\": \"CHICKEN MAGGIE\", \"price\": 70, \"qty\": 10}, \"512\": {\"name\": \"CHILLY MAGGIE\", \"price\": 90, \"qty\": 2}}\n"
     ]
    }
   ],
   "source": [
    "fd = open(\"final_dict.txt\",'r')\n",
    "\n",
    "txt= fd.read()\n",
    "\n",
    "fd.close()\n"
   ]
  },
  {
   "cell_type": "code",
   "execution_count": 35,
   "id": "3ea07406-bef2-4600-9e9e-5eb18e0fd44c",
   "metadata": {},
   "outputs": [
    {
     "name": "stdout",
     "output_type": "stream",
     "text": [
      "{\"501\": {\"name\": \"VEG MOMO\", \"price\": 50, \"qty\": 10}, \"502\": {\"name\": \"NON VEG  MOMO\", \"price\": 70, \"qty\": 10}, \"503\": {\"name\": \"VEG NOODLE\", \"price\": 65, \"qty\": 10}, \"504\": {\"name\": \"EGG NOODLE\", \"price\": 70, \"qty\": 10}, \"505\": {\"name\": \"CHICKEN NOODLE\", \"price\": 90, \"qty\": 10}, \"506\": {\"name\": \"CHILLY CHICKEN\", \"price\": 190, \"qty\": 10}, \"507\": {\"name\": \"VEG MANCHURIAN\", \"price\": 110, \"qty\": 10}, \"508\": {\"name\": \"NON VEG MANCHURIAN\", \"price\": 170, \"qty\": 10}, \"509\": {\"name\": \"CHILLI POTATO\", \"price\": 80, \"qty\": 10}, \"510\": {\"name\": \"EGG MAGGIE\", \"price\": 50, \"qty\": 10}, \"511\": {\"name\": \"CHICKEN MAGGIE\", \"price\": 70, \"qty\": 10}, \"512\": {\"name\": \"CHILLY MAGGIE\", \"price\": 90, \"qty\": 2}}\n"
     ]
    }
   ],
   "source": [
    "print(json_object)"
   ]
  },
  {
   "cell_type": "code",
   "execution_count": 36,
   "id": "1eb1bdc7-9655-41e3-8324-bdc162039fe4",
   "metadata": {},
   "outputs": [],
   "source": [
    "var = json.loads(txt)"
   ]
  },
  {
   "cell_type": "code",
   "execution_count": 37,
   "id": "f0c33b14",
   "metadata": {},
   "outputs": [
    {
     "data": {
      "text/plain": [
       "{'501': {'name': 'VEG MOMO', 'price': 50, 'qty': 10},\n",
       " '502': {'name': 'NON VEG  MOMO', 'price': 70, 'qty': 10},\n",
       " '503': {'name': 'VEG NOODLE', 'price': 65, 'qty': 10},\n",
       " '504': {'name': 'EGG NOODLE', 'price': 70, 'qty': 10},\n",
       " '505': {'name': 'CHICKEN NOODLE', 'price': 90, 'qty': 10},\n",
       " '506': {'name': 'CHILLY CHICKEN', 'price': 190, 'qty': 10},\n",
       " '507': {'name': 'VEG MANCHURIAN', 'price': 110, 'qty': 10},\n",
       " '508': {'name': 'NON VEG MANCHURIAN', 'price': 170, 'qty': 10},\n",
       " '509': {'name': 'CHILLI POTATO', 'price': 80, 'qty': 10},\n",
       " '510': {'name': 'EGG MAGGIE', 'price': 50, 'qty': 10},\n",
       " '511': {'name': 'CHICKEN MAGGIE', 'price': 70, 'qty': 10},\n",
       " '512': {'name': 'CHILLY MAGGIE', 'price': 90, 'qty': 2}}"
      ]
     },
     "execution_count": 37,
     "metadata": {},
     "output_type": "execute_result"
    }
   ],
   "source": [
    "var\n"
   ]
  },
  {
   "cell_type": "code",
   "execution_count": null,
   "id": "c6481fe1",
   "metadata": {},
   "outputs": [],
   "source": []
  }
 ],
 "metadata": {
  "kernelspec": {
   "display_name": "Python 3",
   "language": "python",
   "name": "python3"
  },
  "language_info": {
   "codemirror_mode": {
    "name": "ipython",
    "version": 3
   },
   "file_extension": ".py",
   "mimetype": "text/x-python",
   "name": "python",
   "nbconvert_exporter": "python",
   "pygments_lexer": "ipython3",
   "version": "3.8.8"
  }
 },
 "nbformat": 4,
 "nbformat_minor": 5
}
